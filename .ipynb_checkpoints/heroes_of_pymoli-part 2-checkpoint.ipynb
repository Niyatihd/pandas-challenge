{
 "cells": [
  {
   "cell_type": "markdown",
   "metadata": {
    "nbpresent": {
     "id": "2d762c8d-01f2-46c8-8b44-f7bc4fcb6ccc"
    }
   },
   "source": [
    "HEROES OF PYMOLI DATA ANALYSIS"
   ]
  },
  {
   "cell_type": "code",
   "execution_count": 63,
   "metadata": {
    "collapsed": true,
    "nbpresent": {
     "id": "68a649f5-2163-4b16-bf37-bfdbaee18023"
    }
   },
   "outputs": [],
   "source": [
    "# Dependencies\n",
    "import pandas as pd\n",
    "import os\n",
    "import numpy as np\n",
    "#HeroesOfPymoli/purchase_data2.json"
   ]
  },
  {
   "cell_type": "code",
   "execution_count": 64,
   "metadata": {
    "collapsed": true,
    "nbpresent": {
     "id": "fb3060ae-959e-433c-8065-c3f236a4982f"
    }
   },
   "outputs": [],
   "source": [
    "# Store filepath in a variable\n",
    "#file_path = input(\"Please enter file path: \")\n",
    "file_path = \"HeroesOfPymoli/purchase_data.json\""
   ]
  },
  {
   "cell_type": "code",
   "execution_count": 82,
   "metadata": {
    "nbpresent": {
     "id": "de88f464-fc98-42cc-bab1-61f7d82ba239"
    }
   },
   "outputs": [
    {
     "name": "stdout",
     "output_type": "stream",
     "text": [
      "Number of unique male = 465\n",
      "Number of unique female = 100\n"
     ]
    },
    {
     "data": {
      "text/html": [
       "<div>\n",
       "<style>\n",
       "    .dataframe thead tr:only-child th {\n",
       "        text-align: right;\n",
       "    }\n",
       "\n",
       "    .dataframe thead th {\n",
       "        text-align: left;\n",
       "    }\n",
       "\n",
       "    .dataframe tbody tr th {\n",
       "        vertical-align: top;\n",
       "    }\n",
       "</style>\n",
       "<table border=\"1\" class=\"dataframe\">\n",
       "  <thead>\n",
       "    <tr style=\"text-align: right;\">\n",
       "      <th></th>\n",
       "      <th>Age</th>\n",
       "      <th>Gender</th>\n",
       "      <th>Item ID</th>\n",
       "      <th>Item Name</th>\n",
       "      <th>Price</th>\n",
       "      <th>SN</th>\n",
       "    </tr>\n",
       "  </thead>\n",
       "  <tbody>\n",
       "    <tr>\n",
       "      <th>0</th>\n",
       "      <td>38</td>\n",
       "      <td>Male</td>\n",
       "      <td>165</td>\n",
       "      <td>Bone Crushing Silver Skewer</td>\n",
       "      <td>3.37</td>\n",
       "      <td>Aelalis34</td>\n",
       "    </tr>\n",
       "    <tr>\n",
       "      <th>1</th>\n",
       "      <td>21</td>\n",
       "      <td>Male</td>\n",
       "      <td>119</td>\n",
       "      <td>Stormbringer, Dark Blade of Ending Misery</td>\n",
       "      <td>2.32</td>\n",
       "      <td>Eolo46</td>\n",
       "    </tr>\n",
       "    <tr>\n",
       "      <th>2</th>\n",
       "      <td>34</td>\n",
       "      <td>Male</td>\n",
       "      <td>174</td>\n",
       "      <td>Primitive Blade</td>\n",
       "      <td>2.46</td>\n",
       "      <td>Assastnya25</td>\n",
       "    </tr>\n",
       "    <tr>\n",
       "      <th>3</th>\n",
       "      <td>21</td>\n",
       "      <td>Male</td>\n",
       "      <td>92</td>\n",
       "      <td>Final Critic</td>\n",
       "      <td>1.36</td>\n",
       "      <td>Pheusrical25</td>\n",
       "    </tr>\n",
       "    <tr>\n",
       "      <th>4</th>\n",
       "      <td>23</td>\n",
       "      <td>Male</td>\n",
       "      <td>63</td>\n",
       "      <td>Stormfury Mace</td>\n",
       "      <td>1.27</td>\n",
       "      <td>Aela59</td>\n",
       "    </tr>\n",
       "  </tbody>\n",
       "</table>\n",
       "</div>"
      ],
      "text/plain": [
       "   Age Gender  Item ID                                  Item Name  Price  \\\n",
       "0   38   Male      165                Bone Crushing Silver Skewer   3.37   \n",
       "1   21   Male      119  Stormbringer, Dark Blade of Ending Misery   2.32   \n",
       "2   34   Male      174                            Primitive Blade   2.46   \n",
       "3   21   Male       92                               Final Critic   1.36   \n",
       "4   23   Male       63                             Stormfury Mace   1.27   \n",
       "\n",
       "             SN  \n",
       "0     Aelalis34  \n",
       "1        Eolo46  \n",
       "2   Assastnya25  \n",
       "3  Pheusrical25  \n",
       "4        Aela59  "
      ]
     },
     "execution_count": 82,
     "metadata": {},
     "output_type": "execute_result"
    }
   ],
   "source": [
    "file_one = file_path\n",
    "file_one_df = pd.read_json(file_one)\n",
    "\n",
    "file_one_df_male = file_one_df.loc[file_one_df[\"Gender\"] == \"Male\"]\n",
    "male_unique = len(file_one_df_male[\"SN\"].unique())\n",
    "#file_one_df_male.head()\n",
    "print(\"Number of unique male = {}\".format(male_unique))\n",
    "\n",
    "file_one_df_female = file_one_df.loc[file_one_df[\"Gender\"] == \"Female\"]\n",
    "female_unique = len(file_one_df_female[\"SN\"].unique())\n",
    "#file_one_df_female.head()\n",
    "print(\"Number of unique female = {}\".format(female_unique))\n",
    "\n",
    "file_one_df.head()"
   ]
  },
  {
   "cell_type": "markdown",
   "metadata": {
    "nbpresent": {
     "id": "f9ab5f21-9c8d-4eed-9f5a-93cd96b466aa"
    }
   },
   "source": [
    "TEST CELL (IGNORE)"
   ]
  },
  {
   "cell_type": "code",
   "execution_count": 66,
   "metadata": {
    "nbpresent": {
     "id": "e8285073-f032-4e0e-90a8-1ede2ea41ca3"
    }
   },
   "outputs": [
    {
     "data": {
      "text/html": [
       "<div>\n",
       "<style>\n",
       "    .dataframe thead tr:only-child th {\n",
       "        text-align: right;\n",
       "    }\n",
       "\n",
       "    .dataframe thead th {\n",
       "        text-align: left;\n",
       "    }\n",
       "\n",
       "    .dataframe tbody tr th {\n",
       "        vertical-align: top;\n",
       "    }\n",
       "</style>\n",
       "<table border=\"1\" class=\"dataframe\">\n",
       "  <thead>\n",
       "    <tr style=\"text-align: right;\">\n",
       "      <th></th>\n",
       "      <th>Age</th>\n",
       "      <th>Gender</th>\n",
       "      <th>Item ID</th>\n",
       "      <th>Item Name</th>\n",
       "      <th>Price</th>\n",
       "      <th>SN</th>\n",
       "    </tr>\n",
       "  </thead>\n",
       "  <tbody>\n",
       "    <tr>\n",
       "      <th>191</th>\n",
       "      <td>20</td>\n",
       "      <td>Male</td>\n",
       "      <td>75</td>\n",
       "      <td>Brutality Ivory Warmace</td>\n",
       "      <td>1.72</td>\n",
       "      <td>Aidaira26</td>\n",
       "    </tr>\n",
       "  </tbody>\n",
       "</table>\n",
       "</div>"
      ],
      "text/plain": [
       "     Age Gender  Item ID                Item Name  Price         SN\n",
       "191   20   Male       75  Brutality Ivory Warmace   1.72  Aidaira26"
      ]
     },
     "execution_count": 66,
     "metadata": {},
     "output_type": "execute_result"
    }
   ],
   "source": [
    "file_test = file_one_df.loc[file_one_df[\"SN\"] == \"Aidaira26\"]\n",
    "file_test"
   ]
  },
  {
   "cell_type": "markdown",
   "metadata": {
    "nbpresent": {
     "id": "124ca30f-8cb4-4dee-b708-5cfd46947e9a"
    }
   },
   "source": [
    "PLAYER COUNT"
   ]
  },
  {
   "cell_type": "code",
   "execution_count": 67,
   "metadata": {
    "nbpresent": {
     "id": "cbe2f816-b523-4da2-b67c-f2679e2e6139"
    }
   },
   "outputs": [
    {
     "data": {
      "text/plain": [
       "Age          780\n",
       "Gender       780\n",
       "Item ID      780\n",
       "Item Name    780\n",
       "Price        780\n",
       "SN           780\n",
       "dtype: int64"
      ]
     },
     "execution_count": 67,
     "metadata": {},
     "output_type": "execute_result"
    }
   ],
   "source": [
    "#check dataframe for empty cells or NAN \n",
    "clean_file_one_df = file_one_df.dropna(how=\"any\")\n",
    "clean_file_one_df.count()\n"
   ]
  },
  {
   "cell_type": "code",
   "execution_count": 68,
   "metadata": {
    "nbpresent": {
     "id": "5b5ea114-6b25-47d3-959b-bc7068df8bb9"
    }
   },
   "outputs": [
    {
     "data": {
      "text/html": [
       "<div>\n",
       "<style>\n",
       "    .dataframe thead tr:only-child th {\n",
       "        text-align: right;\n",
       "    }\n",
       "\n",
       "    .dataframe thead th {\n",
       "        text-align: left;\n",
       "    }\n",
       "\n",
       "    .dataframe tbody tr th {\n",
       "        vertical-align: top;\n",
       "    }\n",
       "</style>\n",
       "<table border=\"1\" class=\"dataframe\">\n",
       "  <thead>\n",
       "    <tr style=\"text-align: right;\">\n",
       "      <th></th>\n",
       "      <th>Total Players</th>\n",
       "    </tr>\n",
       "  </thead>\n",
       "  <tbody>\n",
       "    <tr>\n",
       "      <th>0</th>\n",
       "      <td>573</td>\n",
       "    </tr>\n",
       "  </tbody>\n",
       "</table>\n",
       "</div>"
      ],
      "text/plain": [
       "   Total Players\n",
       "0            573"
      ]
     },
     "execution_count": 68,
     "metadata": {},
     "output_type": "execute_result"
    }
   ],
   "source": [
    "total_players = len(file_one_df['SN'].unique())\n",
    "total_players = pd.DataFrame([{\"Total Players\": total_players}])\n",
    "total_players"
   ]
  },
  {
   "cell_type": "markdown",
   "metadata": {
    "nbpresent": {
     "id": "cc6358dc-4181-4044-b5e9-4a6a3fd74a60"
    }
   },
   "source": [
    "PURCHASING ANALYSIS (TOTAL)"
   ]
  },
  {
   "cell_type": "code",
   "execution_count": 69,
   "metadata": {
    "nbpresent": {
     "id": "bf39be8e-6cfb-4215-b482-8454b40702c4"
    }
   },
   "outputs": [
    {
     "data": {
      "text/html": [
       "<div>\n",
       "<style>\n",
       "    .dataframe thead tr:only-child th {\n",
       "        text-align: right;\n",
       "    }\n",
       "\n",
       "    .dataframe thead th {\n",
       "        text-align: left;\n",
       "    }\n",
       "\n",
       "    .dataframe tbody tr th {\n",
       "        vertical-align: top;\n",
       "    }\n",
       "</style>\n",
       "<table border=\"1\" class=\"dataframe\">\n",
       "  <thead>\n",
       "    <tr style=\"text-align: right;\">\n",
       "      <th></th>\n",
       "      <th>Number of Unique Items</th>\n",
       "      <th>Average Price</th>\n",
       "      <th>Number of Purchases</th>\n",
       "      <th>Total Revenue</th>\n",
       "    </tr>\n",
       "  </thead>\n",
       "  <tbody>\n",
       "    <tr>\n",
       "      <th>0</th>\n",
       "      <td>179</td>\n",
       "      <td>2.93%</td>\n",
       "      <td>780</td>\n",
       "      <td>2,286.33%</td>\n",
       "    </tr>\n",
       "  </tbody>\n",
       "</table>\n",
       "</div>"
      ],
      "text/plain": [
       "   Number of Unique Items Average Price  Number of Purchases Total Revenue\n",
       "0                     179         2.93%                  780     2,286.33%"
      ]
     },
     "execution_count": 69,
     "metadata": {},
     "output_type": "execute_result"
    }
   ],
   "source": [
    "total_unique_items = len(file_one_df['Item Name'].unique())\n",
    "#total_unique_items\n",
    "average_price = file_one_df['Price'].mean()\n",
    "#average_price\n",
    "total_purchases = len(file_one_df)\n",
    "#total_purchases\n",
    "total_revenue = file_one_df['Price'].sum()\n",
    "purchasing_analysis_df = pd.DataFrame([{\"Number of Unique Items\":total_unique_items,\n",
    "                                        \"Average Price\":average_price,\n",
    "                                        \"Number of Purchases\":total_purchases,\n",
    "                                        \"Total Revenue\":total_revenue}])\n",
    "\n",
    "\n",
    "purchasing_analysis_df = purchasing_analysis_df[['Number of Unique Items',\n",
    "                                                'Average Price',\n",
    "                                                'Number of Purchases',\n",
    "                                                'Total Revenue']]\n",
    "purchasing_analysis_df[\"Average Price\"] = purchasing_analysis_df[\"Average Price\"].map(\"{0:,.2f}%\".format)\n",
    "purchasing_analysis_df[\"Total Revenue\"] = purchasing_analysis_df[\"Total Revenue\"].map(\"{0:,.2f}%\".format)\n",
    "purchasing_analysis_df"
   ]
  },
  {
   "cell_type": "markdown",
   "metadata": {
    "nbpresent": {
     "id": "177187d7-b576-4b5d-981d-b759eea9c396"
    }
   },
   "source": [
    "GENDER DEMOGRAPHICS\n",
    "\n"
   ]
  },
  {
   "cell_type": "code",
   "execution_count": 70,
   "metadata": {
    "nbpresent": {
     "id": "739e5de3-c536-487e-a2c6-67004291fd49"
    }
   },
   "outputs": [
    {
     "data": {
      "text/html": [
       "<div>\n",
       "<style>\n",
       "    .dataframe thead tr:only-child th {\n",
       "        text-align: right;\n",
       "    }\n",
       "\n",
       "    .dataframe thead th {\n",
       "        text-align: left;\n",
       "    }\n",
       "\n",
       "    .dataframe tbody tr th {\n",
       "        vertical-align: top;\n",
       "    }\n",
       "</style>\n",
       "<table border=\"1\" class=\"dataframe\">\n",
       "  <thead>\n",
       "    <tr style=\"text-align: right;\">\n",
       "      <th></th>\n",
       "      <th>Percentage of Players</th>\n",
       "      <th>Total Count</th>\n",
       "    </tr>\n",
       "  </thead>\n",
       "  <tbody>\n",
       "    <tr>\n",
       "      <th>Male</th>\n",
       "      <td>110.47%</td>\n",
       "      <td>633</td>\n",
       "    </tr>\n",
       "    <tr>\n",
       "      <th>Female</th>\n",
       "      <td>23.73%</td>\n",
       "      <td>136</td>\n",
       "    </tr>\n",
       "    <tr>\n",
       "      <th>Other / Non-Disclosed</th>\n",
       "      <td>1.92%</td>\n",
       "      <td>11</td>\n",
       "    </tr>\n",
       "  </tbody>\n",
       "</table>\n",
       "</div>"
      ],
      "text/plain": [
       "                      Percentage of Players  Total Count\n",
       "Male                                110.47%          633\n",
       "Female                               23.73%          136\n",
       "Other / Non-Disclosed                 1.92%           11"
      ]
     },
     "execution_count": 70,
     "metadata": {},
     "output_type": "execute_result"
    }
   ],
   "source": [
    "demographic_count = file_one_df['Gender'].value_counts()\n",
    "demographic_count_df = pd.DataFrame(demographic_count)\n",
    "demographic_count_df = demographic_count_df.rename(columns={\"Gender\":\"Total Count\"})\n",
    "demographic_percent = [((x/total_players[\"Total Players\"][0])*100) for x in demographic_count_df[\"Total Count\"]]\n",
    "\n",
    "demographic_count_df[\"Percentage of Players\"] = demographic_percent\n",
    "demographic_count_df[\"Percentage of Players\"] = demographic_count_df[\"Percentage of Players\"].map(\"{0:,.2f}%\".format)\n",
    "demographic_count_df = demographic_count_df[['Percentage of Players','Total Count']]\n",
    "demographic_count_df\n",
    "\n",
    "#demographic_percent = demographic_count[\"Gender\"].map"
   ]
  },
  {
   "cell_type": "markdown",
   "metadata": {
    "nbpresent": {
     "id": "1bc2a7ee-d66a-4ef4-82ee-b85a003676bc"
    }
   },
   "source": [
    "PURCHASING ANALYSIS (GENDER)"
   ]
  },
  {
   "cell_type": "code",
   "execution_count": 71,
   "metadata": {
    "nbpresent": {
     "id": "b9ad907a-059b-4bbc-848e-b6ef90546dd9"
    }
   },
   "outputs": [],
   "source": [
    "# Using GroupBy in order to separate the data into fields according to \"Gender\" values\n",
    "grouped_file_one_df = file_one_df.groupby(['Gender'])\n",
    "\n",
    "purchase_count = pd.DataFrame(grouped_file_one_df[\"Price\"].count())\n",
    "purchase_count = purchase_count.rename(columns={\"Price\":\"Purchase counts\"})\n",
    "\n",
    "avg_purchase_price = grouped_file_one_df[\"Price\"].mean()\n",
    "avg_purchase_price = pd.DataFrame(avg_purchase_price)\n",
    "avg_purchase_price = avg_purchase_price.rename(columns={\"Price\":\"Average Purchase Price\"})\n",
    "\n",
    "total_purchase_value = grouped_file_one_df[\"Price\"].sum()\n",
    "total_purchase_value = pd.DataFrame(total_purchase_value)\n",
    "total_purchase_value = total_purchase_value.rename(columns={\"Price\":\"Total Purchase Value\"})\n",
    "\n",
    "purchasing_analysis_df = pd.DataFrame([{\"Purchase Count\":purchase_count}])\n",
    "\n",
    "#purchasing_analysis_df"
   ]
  },
  {
   "cell_type": "code",
   "execution_count": 72,
   "metadata": {
    "collapsed": true,
    "nbpresent": {
     "id": "86829fb5-e378-4fdb-8a44-82e80d42218b"
    }
   },
   "outputs": [],
   "source": [
    "# merge_table\n",
    "dfs = [avg_purchase_price, total_purchase_value]\n",
    "purchase_analysis = purchase_count.join(dfs)\n",
    "#purchase_analysis"
   ]
  },
  {
   "cell_type": "code",
   "execution_count": 73,
   "metadata": {
    "nbpresent": {
     "id": "3e3c194a-9cc5-4016-a6b6-40bd57091d06"
    }
   },
   "outputs": [
    {
     "data": {
      "text/html": [
       "<div>\n",
       "<style>\n",
       "    .dataframe thead tr:only-child th {\n",
       "        text-align: right;\n",
       "    }\n",
       "\n",
       "    .dataframe thead th {\n",
       "        text-align: left;\n",
       "    }\n",
       "\n",
       "    .dataframe tbody tr th {\n",
       "        vertical-align: top;\n",
       "    }\n",
       "</style>\n",
       "<table border=\"1\" class=\"dataframe\">\n",
       "  <thead>\n",
       "    <tr style=\"text-align: right;\">\n",
       "      <th></th>\n",
       "      <th>Purchase counts</th>\n",
       "      <th>Average Purchase Price</th>\n",
       "      <th>Total Purchase Value</th>\n",
       "      <th>Normalized Totals</th>\n",
       "    </tr>\n",
       "    <tr>\n",
       "      <th>Gender</th>\n",
       "      <th></th>\n",
       "      <th></th>\n",
       "      <th></th>\n",
       "      <th></th>\n",
       "    </tr>\n",
       "  </thead>\n",
       "  <tbody>\n",
       "    <tr>\n",
       "      <th>Female</th>\n",
       "      <td>136</td>\n",
       "      <td>$2.82</td>\n",
       "      <td>$382.91</td>\n",
       "      <td>$2.82</td>\n",
       "    </tr>\n",
       "    <tr>\n",
       "      <th>Male</th>\n",
       "      <td>633</td>\n",
       "      <td>$2.95</td>\n",
       "      <td>$1,867.68</td>\n",
       "      <td>$2.95</td>\n",
       "    </tr>\n",
       "    <tr>\n",
       "      <th>Other / Non-Disclosed</th>\n",
       "      <td>11</td>\n",
       "      <td>$3.25</td>\n",
       "      <td>$35.74</td>\n",
       "      <td>$3.25</td>\n",
       "    </tr>\n",
       "  </tbody>\n",
       "</table>\n",
       "</div>"
      ],
      "text/plain": [
       "                       Purchase counts Average Purchase Price  \\\n",
       "Gender                                                          \n",
       "Female                             136                  $2.82   \n",
       "Male                               633                  $2.95   \n",
       "Other / Non-Disclosed               11                  $3.25   \n",
       "\n",
       "                      Total Purchase Value Normalized Totals  \n",
       "Gender                                                        \n",
       "Female                             $382.91             $2.82  \n",
       "Male                             $1,867.68             $2.95  \n",
       "Other / Non-Disclosed               $35.74             $3.25  "
      ]
     },
     "execution_count": 73,
     "metadata": {},
     "output_type": "execute_result"
    }
   ],
   "source": [
    "purchase_analysis[\"Normalized Totals\"] = (purchase_analysis[\"Total Purchase Value\"])/(purchase_analysis[\"Purchase counts\"])\n",
    "purchase_analysis[\"Total Purchase Value\"] = purchase_analysis[\"Total Purchase Value\"].map(\"${0:,.2f}\".format)\n",
    "purchase_analysis[\"Average Purchase Price\"] = purchase_analysis[\"Average Purchase Price\"].map(\"${0:,.2f}\".format)\n",
    "purchase_analysis[\"Normalized Totals\"] = purchase_analysis[\"Normalized Totals\"].map(\"${0:,.2f}\".format)\n",
    "purchase_analysis"
   ]
  },
  {
   "cell_type": "markdown",
   "metadata": {
    "nbpresent": {
     "id": "857b5e30-2f72-41e4-9d04-bd0ea34dd592"
    }
   },
   "source": [
    "AGE DEMOGRAPHICS"
   ]
  },
  {
   "cell_type": "code",
   "execution_count": 74,
   "metadata": {
    "nbpresent": {
     "id": "2ea5d1ed-1d3b-49bf-a6a1-e0e5e3bdc3c0"
    }
   },
   "outputs": [
    {
     "name": "stdout",
     "output_type": "stream",
     "text": [
      "Highest range for Age in data set is 45\n"
     ]
    },
    {
     "data": {
      "text/html": [
       "<div>\n",
       "<style>\n",
       "    .dataframe thead tr:only-child th {\n",
       "        text-align: right;\n",
       "    }\n",
       "\n",
       "    .dataframe thead th {\n",
       "        text-align: left;\n",
       "    }\n",
       "\n",
       "    .dataframe tbody tr th {\n",
       "        vertical-align: top;\n",
       "    }\n",
       "</style>\n",
       "<table border=\"1\" class=\"dataframe\">\n",
       "  <thead>\n",
       "    <tr style=\"text-align: right;\">\n",
       "      <th></th>\n",
       "      <th>Age</th>\n",
       "      <th>Gender</th>\n",
       "      <th>Item ID</th>\n",
       "      <th>Item Name</th>\n",
       "      <th>Price</th>\n",
       "      <th>SN</th>\n",
       "      <th>Age Range</th>\n",
       "    </tr>\n",
       "  </thead>\n",
       "  <tbody>\n",
       "    <tr>\n",
       "      <th>0</th>\n",
       "      <td>38</td>\n",
       "      <td>Male</td>\n",
       "      <td>165</td>\n",
       "      <td>Bone Crushing Silver Skewer</td>\n",
       "      <td>3.37</td>\n",
       "      <td>Aelalis34</td>\n",
       "      <td>35-39</td>\n",
       "    </tr>\n",
       "    <tr>\n",
       "      <th>1</th>\n",
       "      <td>21</td>\n",
       "      <td>Male</td>\n",
       "      <td>119</td>\n",
       "      <td>Stormbringer, Dark Blade of Ending Misery</td>\n",
       "      <td>2.32</td>\n",
       "      <td>Eolo46</td>\n",
       "      <td>20-24</td>\n",
       "    </tr>\n",
       "    <tr>\n",
       "      <th>2</th>\n",
       "      <td>34</td>\n",
       "      <td>Male</td>\n",
       "      <td>174</td>\n",
       "      <td>Primitive Blade</td>\n",
       "      <td>2.46</td>\n",
       "      <td>Assastnya25</td>\n",
       "      <td>30-34</td>\n",
       "    </tr>\n",
       "    <tr>\n",
       "      <th>3</th>\n",
       "      <td>21</td>\n",
       "      <td>Male</td>\n",
       "      <td>92</td>\n",
       "      <td>Final Critic</td>\n",
       "      <td>1.36</td>\n",
       "      <td>Pheusrical25</td>\n",
       "      <td>20-24</td>\n",
       "    </tr>\n",
       "    <tr>\n",
       "      <th>4</th>\n",
       "      <td>23</td>\n",
       "      <td>Male</td>\n",
       "      <td>63</td>\n",
       "      <td>Stormfury Mace</td>\n",
       "      <td>1.27</td>\n",
       "      <td>Aela59</td>\n",
       "      <td>20-24</td>\n",
       "    </tr>\n",
       "  </tbody>\n",
       "</table>\n",
       "</div>"
      ],
      "text/plain": [
       "   Age Gender  Item ID                                  Item Name  Price  \\\n",
       "0   38   Male      165                Bone Crushing Silver Skewer   3.37   \n",
       "1   21   Male      119  Stormbringer, Dark Blade of Ending Misery   2.32   \n",
       "2   34   Male      174                            Primitive Blade   2.46   \n",
       "3   21   Male       92                               Final Critic   1.36   \n",
       "4   23   Male       63                             Stormfury Mace   1.27   \n",
       "\n",
       "             SN Age Range  \n",
       "0     Aelalis34     35-39  \n",
       "1        Eolo46     20-24  \n",
       "2   Assastnya25     30-34  \n",
       "3  Pheusrical25     20-24  \n",
       "4        Aela59     20-24  "
      ]
     },
     "execution_count": 74,
     "metadata": {},
     "output_type": "execute_result"
    }
   ],
   "source": [
    "#Make bins of age groups (<10, 10-14, 15-19, etc.) till the highest range for age in data set.\n",
    "maximum_age = file_one_df[\"Age\"].max()\n",
    "print(\"Highest range for Age in data set is {}\".format(maximum_age))\n",
    "bins = [0, 9, 14, 19, 24, 29, 34, 39, 100]\n",
    "\n",
    "# Create the names for the seven bins\n",
    "age_groups = ['<10', '10-14', '15-19', '20-24', '25-29', '30-34', '35-39', '>40']\n",
    "\n",
    "# Cut Age and place it into bins\n",
    "#pd.cut(file_one_df[\"Age\"], bins, labels=age_groups)\n",
    "\n",
    "# Add new column to the original DF\n",
    "file_one_df[\"Age Range\"] = pd.cut(file_one_df[\"Age\"], bins, labels=age_groups)\n",
    "file_one_df.head()"
   ]
  },
  {
   "cell_type": "code",
   "execution_count": 75,
   "metadata": {
    "nbpresent": {
     "id": "0b3189f2-200d-4fc8-8c17-5f8808e0a559"
    }
   },
   "outputs": [
    {
     "data": {
      "text/html": [
       "<div>\n",
       "<style>\n",
       "    .dataframe thead tr:only-child th {\n",
       "        text-align: right;\n",
       "    }\n",
       "\n",
       "    .dataframe thead th {\n",
       "        text-align: left;\n",
       "    }\n",
       "\n",
       "    .dataframe tbody tr th {\n",
       "        vertical-align: top;\n",
       "    }\n",
       "</style>\n",
       "<table border=\"1\" class=\"dataframe\">\n",
       "  <thead>\n",
       "    <tr style=\"text-align: right;\">\n",
       "      <th></th>\n",
       "      <th>Percentage of Players</th>\n",
       "      <th>Total Count</th>\n",
       "    </tr>\n",
       "    <tr>\n",
       "      <th>Age Range</th>\n",
       "      <th></th>\n",
       "      <th></th>\n",
       "    </tr>\n",
       "  </thead>\n",
       "  <tbody>\n",
       "    <tr>\n",
       "      <th>&lt;10</th>\n",
       "      <td>3.59%</td>\n",
       "      <td>28</td>\n",
       "    </tr>\n",
       "    <tr>\n",
       "      <th>10-14</th>\n",
       "      <td>4.49%</td>\n",
       "      <td>35</td>\n",
       "    </tr>\n",
       "    <tr>\n",
       "      <th>15-19</th>\n",
       "      <td>17.05%</td>\n",
       "      <td>133</td>\n",
       "    </tr>\n",
       "    <tr>\n",
       "      <th>20-24</th>\n",
       "      <td>43.08%</td>\n",
       "      <td>336</td>\n",
       "    </tr>\n",
       "    <tr>\n",
       "      <th>25-29</th>\n",
       "      <td>16.03%</td>\n",
       "      <td>125</td>\n",
       "    </tr>\n",
       "    <tr>\n",
       "      <th>30-34</th>\n",
       "      <td>8.21%</td>\n",
       "      <td>64</td>\n",
       "    </tr>\n",
       "    <tr>\n",
       "      <th>35-39</th>\n",
       "      <td>5.38%</td>\n",
       "      <td>42</td>\n",
       "    </tr>\n",
       "    <tr>\n",
       "      <th>&gt;40</th>\n",
       "      <td>2.18%</td>\n",
       "      <td>17</td>\n",
       "    </tr>\n",
       "  </tbody>\n",
       "</table>\n",
       "</div>"
      ],
      "text/plain": [
       "          Percentage of Players  Total Count\n",
       "Age Range                                   \n",
       "<10                       3.59%           28\n",
       "10-14                     4.49%           35\n",
       "15-19                    17.05%          133\n",
       "20-24                    43.08%          336\n",
       "25-29                    16.03%          125\n",
       "30-34                     8.21%           64\n",
       "35-39                     5.38%           42\n",
       ">40                       2.18%           17"
      ]
     },
     "execution_count": 75,
     "metadata": {},
     "output_type": "execute_result"
    }
   ],
   "source": [
    "# Using GroupBy in order to separate the data into fields according to \"Age Range\" values\n",
    "grouped_file_one_byage_df = file_one_df.groupby(['Age Range'])\n",
    "\n",
    "total_count_age_df = pd.DataFrame(grouped_file_one_byage_df[\"Age Range\"].count())\n",
    "total_count_age_df = total_count_age_df.rename(columns={\"Age Range\":\"Total Count\"})\n",
    "\n",
    "total_count_age_df[\"Percentage of Players\"] = (total_count_age_df[\"Total Count\"]/\n",
    "                                               total_count_age_df[\"Total Count\"].sum())*100\n",
    "total_count_age_df[\"Percentage of Players\"] = total_count_age_df[\"Percentage of Players\"].map(\"{0:,.2f}%\".format)\n",
    "total_count_age_df = total_count_age_df[[\"Percentage of Players\", \"Total Count\"]]\n",
    "total_count_age_df"
   ]
  },
  {
   "cell_type": "markdown",
   "metadata": {
    "nbpresent": {
     "id": "0ba36bfd-66a7-4588-b0df-08c775dc2d2c"
    }
   },
   "source": [
    "TOP SPENDERS"
   ]
  },
  {
   "cell_type": "code",
   "execution_count": 76,
   "metadata": {
    "nbpresent": {
     "id": "8d184589-621e-4f27-80a2-3368590def60"
    }
   },
   "outputs": [
    {
     "data": {
      "text/html": [
       "<div>\n",
       "<style>\n",
       "    .dataframe thead tr:only-child th {\n",
       "        text-align: right;\n",
       "    }\n",
       "\n",
       "    .dataframe thead th {\n",
       "        text-align: left;\n",
       "    }\n",
       "\n",
       "    .dataframe tbody tr th {\n",
       "        vertical-align: top;\n",
       "    }\n",
       "</style>\n",
       "<table border=\"1\" class=\"dataframe\">\n",
       "  <thead>\n",
       "    <tr style=\"text-align: right;\">\n",
       "      <th></th>\n",
       "      <th>Purchase Count</th>\n",
       "      <th>Average Purchase Price</th>\n",
       "      <th>Total Purchase Value</th>\n",
       "    </tr>\n",
       "    <tr>\n",
       "      <th>SN</th>\n",
       "      <th></th>\n",
       "      <th></th>\n",
       "      <th></th>\n",
       "    </tr>\n",
       "  </thead>\n",
       "  <tbody>\n",
       "    <tr>\n",
       "      <th>Undirrala66</th>\n",
       "      <td>5</td>\n",
       "      <td>$3.41</td>\n",
       "      <td>$17.06</td>\n",
       "    </tr>\n",
       "    <tr>\n",
       "      <th>Mindimnya67</th>\n",
       "      <td>4</td>\n",
       "      <td>$3.18</td>\n",
       "      <td>$12.74</td>\n",
       "    </tr>\n",
       "    <tr>\n",
       "      <th>Qarwen67</th>\n",
       "      <td>4</td>\n",
       "      <td>$2.49</td>\n",
       "      <td>$9.97</td>\n",
       "    </tr>\n",
       "    <tr>\n",
       "      <th>Saedue76</th>\n",
       "      <td>4</td>\n",
       "      <td>$3.39</td>\n",
       "      <td>$13.56</td>\n",
       "    </tr>\n",
       "    <tr>\n",
       "      <th>Sondastan54</th>\n",
       "      <td>4</td>\n",
       "      <td>$2.56</td>\n",
       "      <td>$10.24</td>\n",
       "    </tr>\n",
       "  </tbody>\n",
       "</table>\n",
       "</div>"
      ],
      "text/plain": [
       "             Purchase Count Average Purchase Price Total Purchase Value\n",
       "SN                                                                     \n",
       "Undirrala66               5                  $3.41               $17.06\n",
       "Mindimnya67               4                  $3.18               $12.74\n",
       "Qarwen67                  4                  $2.49                $9.97\n",
       "Saedue76                  4                  $3.39               $13.56\n",
       "Sondastan54               4                  $2.56               $10.24"
      ]
     },
     "execution_count": 76,
     "metadata": {},
     "output_type": "execute_result"
    }
   ],
   "source": [
    "user_info_df = file_one_df[[\"SN\", \"Price\"]]\n",
    "user_info_grouped = user_info_df.groupby(['SN'])\n",
    "\n",
    "user_info_grouped_SN_df = pd.DataFrame(user_info_grouped[\"SN\"].count())\n",
    "user_info_grouped_SN_df = user_info_grouped_SN_df.rename(columns={\"SN\":\"Purchase Count\"})\n",
    "user_info_grouped_price_df = pd.DataFrame(user_info_grouped[\"Price\"].mean())\n",
    "user_info_grouped_price_df = user_info_grouped_price_df.rename(columns={\"Price\":\"Average Purchase Price\"})\n",
    "\n",
    "# merge_Df\n",
    "top_spender_df = user_info_grouped_SN_df.join(user_info_grouped_price_df)\n",
    "\n",
    "# sort Df\n",
    "top_spender_df = top_spender_df.sort_values(by=\"Purchase Count\", ascending=False)\n",
    "# Add Total purchase value column\n",
    "top_spender_df[\"Total Purchase Value\"]=top_spender_df[\"Purchase Count\"]*top_spender_df[\"Average Purchase Price\"]\n",
    "\n",
    "# Format text in DF\n",
    "top_spender_df[\"Average Purchase Price\"] = top_spender_df[\"Average Purchase Price\"].map(\"${0:,.2f}\".format)\n",
    "top_spender_df[\"Total Purchase Value\"] = top_spender_df[\"Total Purchase Value\"].map(\"${0:,.2f}\".format)\n",
    "top_spender_df.head()\n"
   ]
  },
  {
   "cell_type": "markdown",
   "metadata": {
    "nbpresent": {
     "id": "8023093e-0c15-4147-aa31-f782b6d193ee"
    }
   },
   "source": [
    "MOST POPULAR ITEM"
   ]
  },
  {
   "cell_type": "code",
   "execution_count": 77,
   "metadata": {
    "nbpresent": {
     "id": "0f4a1d43-5cd4-4564-84b6-8aa6adbd4eea"
    }
   },
   "outputs": [
    {
     "data": {
      "text/html": [
       "<div>\n",
       "<style>\n",
       "    .dataframe thead tr:only-child th {\n",
       "        text-align: right;\n",
       "    }\n",
       "\n",
       "    .dataframe thead th {\n",
       "        text-align: left;\n",
       "    }\n",
       "\n",
       "    .dataframe tbody tr th {\n",
       "        vertical-align: top;\n",
       "    }\n",
       "</style>\n",
       "<table border=\"1\" class=\"dataframe\">\n",
       "  <thead>\n",
       "    <tr style=\"text-align: right;\">\n",
       "      <th></th>\n",
       "      <th>Item ID</th>\n",
       "      <th>Purchase Count</th>\n",
       "      <th>Item Name</th>\n",
       "      <th>Item Price</th>\n",
       "      <th>Total Purchase Value</th>\n",
       "    </tr>\n",
       "  </thead>\n",
       "  <tbody>\n",
       "    <tr>\n",
       "      <th>0</th>\n",
       "      <td>39</td>\n",
       "      <td>11</td>\n",
       "      <td>Bone Crushing Silver Skewer</td>\n",
       "      <td>$3.37</td>\n",
       "      <td>$37.07</td>\n",
       "    </tr>\n",
       "    <tr>\n",
       "      <th>1</th>\n",
       "      <td>84</td>\n",
       "      <td>11</td>\n",
       "      <td>Stormbringer, Dark Blade of Ending Misery</td>\n",
       "      <td>$2.32</td>\n",
       "      <td>$25.52</td>\n",
       "    </tr>\n",
       "    <tr>\n",
       "      <th>2</th>\n",
       "      <td>31</td>\n",
       "      <td>9</td>\n",
       "      <td>Primitive Blade</td>\n",
       "      <td>$2.46</td>\n",
       "      <td>$22.14</td>\n",
       "    </tr>\n",
       "    <tr>\n",
       "      <th>3</th>\n",
       "      <td>175</td>\n",
       "      <td>9</td>\n",
       "      <td>Final Critic</td>\n",
       "      <td>$1.36</td>\n",
       "      <td>$12.24</td>\n",
       "    </tr>\n",
       "    <tr>\n",
       "      <th>4</th>\n",
       "      <td>13</td>\n",
       "      <td>9</td>\n",
       "      <td>Stormfury Mace</td>\n",
       "      <td>$1.27</td>\n",
       "      <td>$11.43</td>\n",
       "    </tr>\n",
       "  </tbody>\n",
       "</table>\n",
       "</div>"
      ],
      "text/plain": [
       "   Item ID  Purchase Count                                  Item Name  \\\n",
       "0       39              11                Bone Crushing Silver Skewer   \n",
       "1       84              11  Stormbringer, Dark Blade of Ending Misery   \n",
       "2       31               9                            Primitive Blade   \n",
       "3      175               9                               Final Critic   \n",
       "4       13               9                             Stormfury Mace   \n",
       "\n",
       "  Item Price Total Purchase Value  \n",
       "0      $3.37               $37.07  \n",
       "1      $2.32               $25.52  \n",
       "2      $2.46               $22.14  \n",
       "3      $1.36               $12.24  \n",
       "4      $1.27               $11.43  "
      ]
     },
     "execution_count": 77,
     "metadata": {},
     "output_type": "execute_result"
    }
   ],
   "source": [
    "item_info_df = file_one_df[[\"Item ID\", \"Item Name\", \"Price\"]]\n",
    "item_info_grouped = item_info_df.groupby(['Item ID'])\n",
    "item_info_count_grouped_df = pd.DataFrame(item_info_grouped[\"Item ID\"].count())\n",
    "item_info_count_grouped_df = item_info_count_grouped_df.rename(columns={\"Item ID\":\"Purchase Count\"})\n",
    "item_info_count_grouped_df = item_info_count_grouped_df.sort_values(by=\"Purchase Count\", ascending=False)\n",
    "\n",
    "#get iten name & item price as DFs and join to most_popular_df later\n",
    "item_info_name_df = pd.DataFrame(item_info_df[\"Item Name\"])\n",
    "item_info_price_df = pd.DataFrame(item_info_df[\"Price\"])\n",
    "\n",
    "#reset index\n",
    "item_info_count_grouped_df = item_info_count_grouped_df.reset_index()\n",
    "item_info_count_grouped_df.head()\n",
    "\n",
    "#merge DFs\n",
    "dfs = [item_info_name_df, item_info_price_df]\n",
    "most_popular_df = item_info_count_grouped_df.join(dfs)\n",
    "most_popular_df = most_popular_df.rename(columns={\"Price\":\"Item Price\"})\n",
    "\n",
    "# Add Total purchase value column\n",
    "most_popular_df[\"Total Purchase Value\"]=most_popular_df[\"Purchase Count\"]*most_popular_df[\"Item Price\"]\n",
    "\n",
    "#format text in DF\n",
    "most_popular_df[\"Item Price\"] = most_popular_df[\"Item Price\"].map(\"${0:,.2f}\".format)\n",
    "most_popular_df[\"Total Purchase Value\"] = most_popular_df[\"Total Purchase Value\"].map(\"${0:,.2f}\".format)\n",
    "\n",
    "most_popular_df.head()"
   ]
  },
  {
   "cell_type": "markdown",
   "metadata": {
    "nbpresent": {
     "id": "bb6acc89-79ce-4f71-8b38-ca865bc02c32"
    }
   },
   "source": [
    "MOST PROFITABLE ITEMS"
   ]
  },
  {
   "cell_type": "code",
   "execution_count": 94,
   "metadata": {},
   "outputs": [
    {
     "name": "stdout",
     "output_type": "stream",
     "text": [
      "max total purchase value = $37.07\n"
     ]
    },
    {
     "data": {
      "text/html": [
       "<div>\n",
       "<style>\n",
       "    .dataframe thead tr:only-child th {\n",
       "        text-align: right;\n",
       "    }\n",
       "\n",
       "    .dataframe thead th {\n",
       "        text-align: left;\n",
       "    }\n",
       "\n",
       "    .dataframe tbody tr th {\n",
       "        vertical-align: top;\n",
       "    }\n",
       "</style>\n",
       "<table border=\"1\" class=\"dataframe\">\n",
       "  <thead>\n",
       "    <tr style=\"text-align: right;\">\n",
       "      <th></th>\n",
       "      <th>Item ID</th>\n",
       "      <th>Purchase Count</th>\n",
       "      <th>Item Name</th>\n",
       "      <th>Item Price</th>\n",
       "      <th>Total Purchase Value</th>\n",
       "    </tr>\n",
       "  </thead>\n",
       "  <tbody>\n",
       "    <tr>\n",
       "      <th>0</th>\n",
       "      <td>39</td>\n",
       "      <td>11</td>\n",
       "      <td>Bone Crushing Silver Skewer</td>\n",
       "      <td>$3.37</td>\n",
       "      <td>$37.07</td>\n",
       "    </tr>\n",
       "    <tr>\n",
       "      <th>6</th>\n",
       "      <td>65</td>\n",
       "      <td>8</td>\n",
       "      <td>Mercenary Sabre</td>\n",
       "      <td>$4.57</td>\n",
       "      <td>$36.56</td>\n",
       "    </tr>\n",
       "    <tr>\n",
       "      <th>9</th>\n",
       "      <td>107</td>\n",
       "      <td>8</td>\n",
       "      <td>Expiration, Warscythe Of Lost Worlds</td>\n",
       "      <td>$4.53</td>\n",
       "      <td>$36.24</td>\n",
       "    </tr>\n",
       "    <tr>\n",
       "      <th>19</th>\n",
       "      <td>172</td>\n",
       "      <td>7</td>\n",
       "      <td>Winterthorn, Defender of Shifting Worlds</td>\n",
       "      <td>$4.89</td>\n",
       "      <td>$34.23</td>\n",
       "    </tr>\n",
       "    <tr>\n",
       "      <th>15</th>\n",
       "      <td>66</td>\n",
       "      <td>7</td>\n",
       "      <td>Blood-Forged Skeletal Spine</td>\n",
       "      <td>$4.77</td>\n",
       "      <td>$33.39</td>\n",
       "    </tr>\n",
       "  </tbody>\n",
       "</table>\n",
       "</div>"
      ],
      "text/plain": [
       "    Item ID  Purchase Count                                 Item Name  \\\n",
       "0        39              11               Bone Crushing Silver Skewer   \n",
       "6        65               8                           Mercenary Sabre   \n",
       "9       107               8      Expiration, Warscythe Of Lost Worlds   \n",
       "19      172               7  Winterthorn, Defender of Shifting Worlds   \n",
       "15       66               7               Blood-Forged Skeletal Spine   \n",
       "\n",
       "   Item Price Total Purchase Value  \n",
       "0       $3.37               $37.07  \n",
       "6       $4.57               $36.56  \n",
       "9       $4.53               $36.24  \n",
       "19      $4.89               $34.23  \n",
       "15      $4.77               $33.39  "
      ]
     },
     "execution_count": 94,
     "metadata": {},
     "output_type": "execute_result"
    }
   ],
   "source": [
    "#get unformatted data by grouping \n",
    "most_profitable_df = item_info_count_grouped_df.join(dfs)\n",
    "most_profitable_df = most_profitable_df.rename(columns={\"Price\":\"Item Price\"})\n",
    "\n",
    "# Add Total purchase value column\n",
    "most_profitable_df[\"Total Purchase Value\"]=most_profitable_df[\"Purchase Count\"]*most_profitable_df[\"Item Price\"]\n",
    "\n",
    "#Sort by total purchase value\n",
    "most_profitable_df = most_profitable_df.sort_values(by=\"Total Purchase Value\", ascending=False)\n",
    "\n",
    "#test max total purchase value\n",
    "max_total_purchase_value = most_profitable_df[\"Total Purchase Value\"].max()\n",
    "print(\"max total purchase value = ${}\".format(max_total_purchase_value))\n",
    "\n",
    "#format text in DF\n",
    "most_profitable_df[\"Item Price\"] = most_profitable_df[\"Item Price\"].map(\"${0:,.2f}\".format)\n",
    "most_profitable_df[\"Total Purchase Value\"] = most_profitable_df[\"Total Purchase Value\"].map(\"${0:,.2f}\".format)\n",
    "\n",
    "\n",
    "most_profitable_df.head()"
   ]
  },
  {
   "cell_type": "code",
   "execution_count": null,
   "metadata": {},
   "outputs": [],
   "source": []
  },
  {
   "cell_type": "code",
   "execution_count": null,
   "metadata": {
    "collapsed": true
   },
   "outputs": [],
   "source": []
  }
 ],
 "metadata": {
  "kernelspec": {
   "display_name": "Python [conda env:PythonData_3]",
   "language": "python",
   "name": "conda-env-PythonData_3-py"
  },
  "language_info": {
   "codemirror_mode": {
    "name": "ipython",
    "version": 3
   },
   "file_extension": ".py",
   "mimetype": "text/x-python",
   "name": "python",
   "nbconvert_exporter": "python",
   "pygments_lexer": "ipython3",
   "version": "3.6.3"
  }
 },
 "nbformat": 4,
 "nbformat_minor": 2
}
