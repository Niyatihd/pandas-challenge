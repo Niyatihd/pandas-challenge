{
 "cells": [
  {
   "cell_type": "markdown",
   "metadata": {},
   "source": [
    "HEROES OF PYMOLI DATA ANALYSIS"
   ]
  },
  {
   "cell_type": "code",
   "execution_count": 2,
   "metadata": {
    "collapsed": true
   },
   "outputs": [],
   "source": [
    "# Dependencies\n",
    "import pandas as pd\n",
    "import os\n",
    "import numpy as np\n",
    "#HeroesOfPymoli/purchase_data2.json"
   ]
  },
  {
   "cell_type": "code",
   "execution_count": 3,
   "metadata": {},
   "outputs": [
    {
     "name": "stdout",
     "output_type": "stream",
     "text": [
      "Please enter file path: HeroesOfPymoli/purchase_data2.json\n"
     ]
    }
   ],
   "source": [
    "# Store filepath in a variable\n",
    "file_path = input(\"Please enter file path: \")\n"
   ]
  },
  {
   "cell_type": "code",
   "execution_count": 4,
   "metadata": {},
   "outputs": [
    {
     "data": {
      "text/html": [
       "<div>\n",
       "<style>\n",
       "    .dataframe thead tr:only-child th {\n",
       "        text-align: right;\n",
       "    }\n",
       "\n",
       "    .dataframe thead th {\n",
       "        text-align: left;\n",
       "    }\n",
       "\n",
       "    .dataframe tbody tr th {\n",
       "        vertical-align: top;\n",
       "    }\n",
       "</style>\n",
       "<table border=\"1\" class=\"dataframe\">\n",
       "  <thead>\n",
       "    <tr style=\"text-align: right;\">\n",
       "      <th></th>\n",
       "      <th>Age</th>\n",
       "      <th>Gender</th>\n",
       "      <th>Item ID</th>\n",
       "      <th>Item Name</th>\n",
       "      <th>Price</th>\n",
       "      <th>SN</th>\n",
       "    </tr>\n",
       "  </thead>\n",
       "  <tbody>\n",
       "    <tr>\n",
       "      <th>0</th>\n",
       "      <td>20</td>\n",
       "      <td>Male</td>\n",
       "      <td>93</td>\n",
       "      <td>Apocalyptic Battlescythe</td>\n",
       "      <td>4.49</td>\n",
       "      <td>Iloni35</td>\n",
       "    </tr>\n",
       "    <tr>\n",
       "      <th>1</th>\n",
       "      <td>21</td>\n",
       "      <td>Male</td>\n",
       "      <td>12</td>\n",
       "      <td>Dawne</td>\n",
       "      <td>3.36</td>\n",
       "      <td>Aidaira26</td>\n",
       "    </tr>\n",
       "    <tr>\n",
       "      <th>2</th>\n",
       "      <td>17</td>\n",
       "      <td>Male</td>\n",
       "      <td>5</td>\n",
       "      <td>Putrid Fan</td>\n",
       "      <td>2.63</td>\n",
       "      <td>Irim47</td>\n",
       "    </tr>\n",
       "    <tr>\n",
       "      <th>3</th>\n",
       "      <td>17</td>\n",
       "      <td>Male</td>\n",
       "      <td>123</td>\n",
       "      <td>Twilight's Carver</td>\n",
       "      <td>2.55</td>\n",
       "      <td>Irith83</td>\n",
       "    </tr>\n",
       "    <tr>\n",
       "      <th>4</th>\n",
       "      <td>22</td>\n",
       "      <td>Male</td>\n",
       "      <td>154</td>\n",
       "      <td>Feral Katana</td>\n",
       "      <td>4.11</td>\n",
       "      <td>Philodil43</td>\n",
       "    </tr>\n",
       "  </tbody>\n",
       "</table>\n",
       "</div>"
      ],
      "text/plain": [
       "   Age Gender  Item ID                 Item Name  Price          SN\n",
       "0   20   Male       93  Apocalyptic Battlescythe   4.49     Iloni35\n",
       "1   21   Male       12                     Dawne   3.36   Aidaira26\n",
       "2   17   Male        5                Putrid Fan   2.63      Irim47\n",
       "3   17   Male      123         Twilight's Carver   2.55     Irith83\n",
       "4   22   Male      154              Feral Katana   4.11  Philodil43"
      ]
     },
     "execution_count": 4,
     "metadata": {},
     "output_type": "execute_result"
    }
   ],
   "source": [
    "file_one = file_path\n",
    "file_one_df = pd.read_json(file_one)\n",
    "file_one_df.head()"
   ]
  },
  {
   "cell_type": "markdown",
   "metadata": {},
   "source": [
    "PLAYER COUNT"
   ]
  },
  {
   "cell_type": "code",
   "execution_count": 5,
   "metadata": {},
   "outputs": [
    {
     "data": {
      "text/plain": [
       "Age          78\n",
       "Gender       78\n",
       "Item ID      78\n",
       "Item Name    78\n",
       "Price        78\n",
       "SN           78\n",
       "dtype: int64"
      ]
     },
     "execution_count": 5,
     "metadata": {},
     "output_type": "execute_result"
    }
   ],
   "source": [
    "#check dataframe for empty cells or NAN \n",
    "clean_file_one_df = file_one_df.dropna(how=\"any\")\n",
    "clean_file_one_df.count()"
   ]
  },
  {
   "cell_type": "code",
   "execution_count": 6,
   "metadata": {},
   "outputs": [
    {
     "data": {
      "text/html": [
       "<div>\n",
       "<style>\n",
       "    .dataframe thead tr:only-child th {\n",
       "        text-align: right;\n",
       "    }\n",
       "\n",
       "    .dataframe thead th {\n",
       "        text-align: left;\n",
       "    }\n",
       "\n",
       "    .dataframe tbody tr th {\n",
       "        vertical-align: top;\n",
       "    }\n",
       "</style>\n",
       "<table border=\"1\" class=\"dataframe\">\n",
       "  <thead>\n",
       "    <tr style=\"text-align: right;\">\n",
       "      <th></th>\n",
       "      <th>Total Players</th>\n",
       "    </tr>\n",
       "  </thead>\n",
       "  <tbody>\n",
       "    <tr>\n",
       "      <th>0</th>\n",
       "      <td>74</td>\n",
       "    </tr>\n",
       "  </tbody>\n",
       "</table>\n",
       "</div>"
      ],
      "text/plain": [
       "   Total Players\n",
       "0             74"
      ]
     },
     "execution_count": 6,
     "metadata": {},
     "output_type": "execute_result"
    }
   ],
   "source": [
    "total_players = len(file_one_df['SN'].unique())\n",
    "total_players = pd.DataFrame([{\"Total Players\": total_players}])\n",
    "total_players"
   ]
  },
  {
   "cell_type": "markdown",
   "metadata": {},
   "source": [
    "PURCHASING ANALYSIS (TOTAL)"
   ]
  },
  {
   "cell_type": "code",
   "execution_count": 7,
   "metadata": {},
   "outputs": [
    {
     "data": {
      "text/html": [
       "<div>\n",
       "<style>\n",
       "    .dataframe thead tr:only-child th {\n",
       "        text-align: right;\n",
       "    }\n",
       "\n",
       "    .dataframe thead th {\n",
       "        text-align: left;\n",
       "    }\n",
       "\n",
       "    .dataframe tbody tr th {\n",
       "        vertical-align: top;\n",
       "    }\n",
       "</style>\n",
       "<table border=\"1\" class=\"dataframe\">\n",
       "  <thead>\n",
       "    <tr style=\"text-align: right;\">\n",
       "      <th></th>\n",
       "      <th>Number of Unique Items</th>\n",
       "      <th>Average Price</th>\n",
       "      <th>Number of Purchases</th>\n",
       "      <th>Total Revenue</th>\n",
       "    </tr>\n",
       "  </thead>\n",
       "  <tbody>\n",
       "    <tr>\n",
       "      <th>0</th>\n",
       "      <td>63</td>\n",
       "      <td>2.92%</td>\n",
       "      <td>78</td>\n",
       "      <td>228.10%</td>\n",
       "    </tr>\n",
       "  </tbody>\n",
       "</table>\n",
       "</div>"
      ],
      "text/plain": [
       "   Number of Unique Items Average Price  Number of Purchases Total Revenue\n",
       "0                      63         2.92%                   78       228.10%"
      ]
     },
     "execution_count": 7,
     "metadata": {},
     "output_type": "execute_result"
    }
   ],
   "source": [
    "total_unique_items = len(file_one_df['Item Name'].unique())\n",
    "#total_unique_items\n",
    "average_price = file_one_df['Price'].mean()\n",
    "#average_price\n",
    "total_purchases = len(file_one_df)\n",
    "#total_purchases\n",
    "total_revenue = file_one_df['Price'].sum()\n",
    "purchasing_analysis_df = pd.DataFrame([{\"Number of Unique Items\":total_unique_items,\n",
    "                                        \"Average Price\":average_price,\n",
    "                                        \"Number of Purchases\":total_purchases,\n",
    "                                        \"Total Revenue\":total_revenue}])\n",
    "\n",
    "\n",
    "purchasing_analysis_df = purchasing_analysis_df[['Number of Unique Items',\n",
    "                                                'Average Price',\n",
    "                                                'Number of Purchases',\n",
    "                                                'Total Revenue']]\n",
    "purchasing_analysis_df[\"Average Price\"] = purchasing_analysis_df[\"Average Price\"].map(\"{0:,.2f}%\".format)\n",
    "purchasing_analysis_df[\"Total Revenue\"] = purchasing_analysis_df[\"Total Revenue\"].map(\"{0:,.2f}%\".format)\n",
    "purchasing_analysis_df"
   ]
  },
  {
   "cell_type": "markdown",
   "metadata": {},
   "source": [
    "GENDER DEMOGRAPHICS\n",
    "\n"
   ]
  },
  {
   "cell_type": "code",
   "execution_count": 8,
   "metadata": {},
   "outputs": [
    {
     "data": {
      "text/html": [
       "<div>\n",
       "<style>\n",
       "    .dataframe thead tr:only-child th {\n",
       "        text-align: right;\n",
       "    }\n",
       "\n",
       "    .dataframe thead th {\n",
       "        text-align: left;\n",
       "    }\n",
       "\n",
       "    .dataframe tbody tr th {\n",
       "        vertical-align: top;\n",
       "    }\n",
       "</style>\n",
       "<table border=\"1\" class=\"dataframe\">\n",
       "  <thead>\n",
       "    <tr style=\"text-align: right;\">\n",
       "      <th></th>\n",
       "      <th>Percentage of Players</th>\n",
       "      <th>Total Count</th>\n",
       "    </tr>\n",
       "  </thead>\n",
       "  <tbody>\n",
       "    <tr>\n",
       "      <th>Male</th>\n",
       "      <td>86.49%</td>\n",
       "      <td>64</td>\n",
       "    </tr>\n",
       "    <tr>\n",
       "      <th>Female</th>\n",
       "      <td>17.57%</td>\n",
       "      <td>13</td>\n",
       "    </tr>\n",
       "    <tr>\n",
       "      <th>Other / Non-Disclosed</th>\n",
       "      <td>1.35%</td>\n",
       "      <td>1</td>\n",
       "    </tr>\n",
       "  </tbody>\n",
       "</table>\n",
       "</div>"
      ],
      "text/plain": [
       "                      Percentage of Players  Total Count\n",
       "Male                                 86.49%           64\n",
       "Female                               17.57%           13\n",
       "Other / Non-Disclosed                 1.35%            1"
      ]
     },
     "execution_count": 8,
     "metadata": {},
     "output_type": "execute_result"
    }
   ],
   "source": [
    "demographic_count = file_one_df['Gender'].value_counts()\n",
    "demographic_count_df = pd.DataFrame(demographic_count)\n",
    "demographic_count_df = demographic_count_df.rename(columns={\"Gender\":\"Total Count\"})\n",
    "demographic_percent = [((x/total_players[\"Total Players\"][0])*100) for x in demographic_count_df[\"Total Count\"]]\n",
    "\n",
    "demographic_count_df[\"Percentage of Players\"] = demographic_percent\n",
    "demographic_count_df[\"Percentage of Players\"] = demographic_count_df[\"Percentage of Players\"].map(\"{0:,.2f}%\".format)\n",
    "demographic_count_df = demographic_count_df[['Percentage of Players','Total Count']]\n",
    "demographic_count_df\n",
    "\n",
    "#demographic_percent = demographic_count[\"Gender\"].map"
   ]
  },
  {
   "cell_type": "markdown",
   "metadata": {},
   "source": [
    "PURCHASING ANALYSIS (GENDER)"
   ]
  },
  {
   "cell_type": "code",
   "execution_count": 20,
   "metadata": {},
   "outputs": [
    {
     "name": "stdout",
     "output_type": "stream",
     "text": [
      "Male: 64\n",
      "Female: 13\n",
      "non_specfic: 1\n"
     ]
    }
   ],
   "source": [
    "male = demographic_count_df[\"Total Count\"]['Male']\n",
    "female = demographic_count_df[\"Total Count\"]['Female']\n",
    "non_gender_specific = demographic_count_df[\"Total Count\"]['Other / Non-Disclosed']\n",
    "avg_purchase_male = file_one_df.loc[file_one_df[\"Gender\"] == \"Male\"]\n",
    "# print(f\"\\nTotal: {total_gender}\")\n",
    "print(f\"Male: {male}\")\n",
    "print(f\"Female: {female}\")\n",
    "print(f\"non_specfic: {non_gender_specific}\")"
   ]
  },
  {
   "cell_type": "code",
   "execution_count": null,
   "metadata": {
    "collapsed": true
   },
   "outputs": [],
   "source": []
  },
  {
   "cell_type": "code",
   "execution_count": null,
   "metadata": {
    "collapsed": true
   },
   "outputs": [],
   "source": []
  },
  {
   "cell_type": "code",
   "execution_count": null,
   "metadata": {
    "collapsed": true
   },
   "outputs": [],
   "source": []
  },
  {
   "cell_type": "code",
   "execution_count": null,
   "metadata": {
    "collapsed": true
   },
   "outputs": [],
   "source": []
  }
 ],
 "metadata": {
  "kernelspec": {
   "display_name": "Python [conda env:PythonData_3]",
   "language": "python",
   "name": "conda-env-PythonData_3-py"
  },
  "language_info": {
   "codemirror_mode": {
    "name": "ipython",
    "version": 3
   },
   "file_extension": ".py",
   "mimetype": "text/x-python",
   "name": "python",
   "nbconvert_exporter": "python",
   "pygments_lexer": "ipython3",
   "version": "3.6.3"
  }
 },
 "nbformat": 4,
 "nbformat_minor": 2
}
